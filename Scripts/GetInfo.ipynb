{
 "cells": [
  {
   "cell_type": "code",
   "execution_count": null,
   "id": "6cf3c31f",
   "metadata": {},
   "outputs": [],
   "source": [
    "import os\n",
    "import sys\n",
    "module_path = os.path.abspath(os.path.join(os.getcwd(), os.pardir))\n",
    "print(module_path)\n",
    "sys.path.append(module_path)"
   ]
  },
  {
   "cell_type": "code",
   "execution_count": null,
   "id": "b576fc94",
   "metadata": {},
   "outputs": [],
   "source": [
    "import clip\n",
    "import timm\n",
    "import open_clip\n",
    "import torchvision.models as models\n",
    "\n",
    "from NeuroPredictor.FeatExtractor import (\n",
    "    TimmFeatureExtractor,\n",
    "    TorchvisionFeatureExtractor,\n",
    "    CLIPFeatureExtractor,\n",
    "    OpenCLIPFeatureExtractor\n",
    ")"
   ]
  },
  {
   "cell_type": "markdown",
   "id": "9256d123",
   "metadata": {},
   "source": [
    "#### Get available models"
   ]
  },
  {
   "cell_type": "code",
   "execution_count": null,
   "id": "cbb3bd85",
   "metadata": {},
   "outputs": [],
   "source": [
    "backbone_type = 'torchvision' # 'timm', 'torchvision', 'clip', 'openclip'\n",
    "if backbone_type == 'timm':\n",
    "    model_list = timm.list_models()\n",
    "elif backbone_type == 'torchvision':\n",
    "    model_list = models.list_models()\n",
    "elif backbone_type == 'clip':\n",
    "    model_list = clip.available_models()\n",
    "elif backbone_type == 'openclip':\n",
    "    model_list = open_clip.list_models()\n",
    "\n",
    "print(model_list)\n",
    "print([i for i in model_list if 'resnet' in i])"
   ]
  },
  {
   "cell_type": "markdown",
   "id": "a95fcfc5",
   "metadata": {},
   "source": [
    "#### Get available layers"
   ]
  },
  {
   "cell_type": "code",
   "execution_count": null,
   "id": "e46e4559",
   "metadata": {},
   "outputs": [],
   "source": [
    "backbone_type = 'torchvision'\n",
    "# model_name = 'vit_base_patch16_clip_224.laion2b'\n",
    "model_name = 'resnet50'\n",
    "\n",
    "if backbone_type == 'timm':\n",
    "    model = TimmFeatureExtractor(model_name=model_name)\n",
    "elif backbone_type == 'torchvision':\n",
    "    model = TorchvisionFeatureExtractor(model_name=model_name)\n",
    "elif backbone_type == 'clip':\n",
    "    model = CLIPFeatureExtractor(model_name=model_name)\n",
    "elif backbone_type == 'openclip':\n",
    "    model = OpenCLIPFeatureExtractor(model_name=model_name)\n",
    "\n",
    "print(model.list_hookable_layers())"
   ]
  },
  {
   "cell_type": "code",
   "execution_count": null,
   "id": "97af27a7",
   "metadata": {},
   "outputs": [],
   "source": [
    "backbone_type = 'torchvision'\n",
    "model_name = 'resnet50'\n",
    "# ckpt_path = r\"D:\\Dataset\\robust_weights\\resnet50\\resnet50_linf_eps2.0.ckpt\"\n",
    "ckpt_path = r\"D:\\Dataset\\ss_weights\\resnet50\\r50_1x_sk1.pth\"\n",
    "\n",
    "if backbone_type == 'timm':\n",
    "    model = TimmFeatureExtractor(model_name=model_name)\n",
    "elif backbone_type == 'torchvision':\n",
    "    model = TorchvisionFeatureExtractor(model_name=model_name, ckpt_path=ckpt_path)\n",
    "elif backbone_type == 'clip':\n",
    "    model = CLIPFeatureExtractor(model_name=model_name)\n",
    "elif backbone_type == 'openclip':\n",
    "    model = OpenCLIPFeatureExtractor(model_name=model_name)\n",
    "\n",
    "print(model.list_hookable_layers())"
   ]
  },
  {
   "cell_type": "markdown",
   "id": "9fade35e",
   "metadata": {},
   "source": [
    "#### Get the shape of layers"
   ]
  },
  {
   "cell_type": "code",
   "execution_count": null,
   "id": "7ce66a5d",
   "metadata": {},
   "outputs": [],
   "source": [
    "# extractor = TorchvisionFeatureExtractor(model_name='resnet50', ckpt_path=ckpt_path)\n",
    "extractor = TorchvisionFeatureExtractor(model_name='mobilenet_v3_small')\n",
    "\n",
    "from collections import Counter\n",
    "\n",
    "def param_dtype_summary(model):\n",
    "    cnt = Counter()\n",
    "    for name, p in model.named_parameters():\n",
    "        cnt[str(p.dtype)] += 1\n",
    "    return cnt\n",
    "print(param_dtype_summary(extractor.model), next(extractor.model.parameters()).device)\n",
    "layers = extractor.list_hookable_layers()\n",
    "# selected_layers = ['layer1', 'layer2', 'layer3', 'layer4']\n",
    "selected_layers = layers\n",
    "shapes = extractor.get_feature_shapes(selected_layers)\n",
    "\n",
    "for name, shape in shapes.items():\n",
    "    print(f\"{name}: {shape}\")"
   ]
  },
  {
   "cell_type": "code",
   "execution_count": null,
   "id": "24d0571f",
   "metadata": {},
   "outputs": [],
   "source": [
    "extractor = TimmFeatureExtractor(model_name='vit_base_patch16_clip_224.laion2b')\n",
    "layers = extractor.list_hookable_layers()\n",
    "selected_layers = ['patch_embed.proj', 'blocks.0.norm1', 'blocks.0.attn.qkv', 'blocks.11', 'norm']\n",
    "shapes = extractor.get_feature_shapes(selected_layers)\n",
    "\n",
    "for name, shape in shapes.items():\n",
    "    print(f\"{name}: {shape}\")"
   ]
  },
  {
   "cell_type": "markdown",
   "id": "f324b6a8",
   "metadata": {},
   "source": [
    "#### Test weights loading"
   ]
  },
  {
   "cell_type": "code",
   "execution_count": null,
   "id": "6fcde600",
   "metadata": {},
   "outputs": [],
   "source": [
    "import torch\n",
    "from torchvision.models import resnet50, ResNet50_Weights\n",
    "\n",
    "# 1) 新建 torchvision 的 resnet50（不自动下载 torchvision 的预训练权重）\n",
    "model = resnet50(weights=None)\n",
    "model.eval()\n",
    "\n",
    "# 2) 加载 checkpoint（路径换成你下载的文件）\n",
    "ckpt_path = r\"D:\\Dataset\\ss_weights\\resnet50\\moco_v2_800ep_pretrain.pth.tar\"  # 文件来自 RobustBench / MadryLab 等\n",
    "ckpt = torch.load(ckpt_path, map_location=\"cpu\")\n",
    "\n",
    "# ckpt 的结构会不同：常见有直接 state_dict，或包含 'model_state_dict'/'state_dict'/'model'\n",
    "if isinstance(ckpt, dict):\n",
    "    # 尝试常见键名\n",
    "    if \"state_dict\" in ckpt:\n",
    "        sd = ckpt[\"state_dict\"]\n",
    "    elif \"model_state_dict\" in ckpt:\n",
    "        sd = ckpt[\"model_state_dict\"]\n",
    "    elif \"model\" in ckpt and isinstance(ckpt[\"model\"], dict):\n",
    "        sd = ckpt[\"model\"]\n",
    "    else:\n",
    "        # 否则假设整个对象就是 state_dict\n",
    "        sd = ckpt\n",
    "else:\n",
    "    sd = ckpt\n",
    "\n",
    "# 3) 清洗 key（去掉 'module.' 或 'model.' 前缀）\n",
    "new_sd = {}\n",
    "for k, v in sd.items():\n",
    "    new_k = k\n",
    "    if k.startswith(\"module.\"):\n",
    "        new_k = k[len(\"module.\"):]\n",
    "    if new_k.startswith(\"model.\"):\n",
    "        new_k = new_k[len(\"model.\"):]\n",
    "    new_sd[new_k] = v\n",
    "\n",
    "# 4) 尝试加载（strict=False 以便于调试不匹配项）\n",
    "missing, unexpected = model.load_state_dict(new_sd, strict=False)\n",
    "print(\"missing keys:\", missing)\n",
    "print(\"unexpected keys:\", unexpected)"
   ]
  },
  {
   "cell_type": "code",
   "execution_count": null,
   "id": "182bb327",
   "metadata": {},
   "outputs": [],
   "source": [
    "print(new_sd.keys())\n",
    "print(model)"
   ]
  },
  {
   "cell_type": "code",
   "execution_count": null,
   "id": "93a715ae",
   "metadata": {},
   "outputs": [],
   "source": [
    "import numpy as np\n",
    "mat_a, mat_b = np.random.randn(17390, 139968), np.random.randn(17390, 139968)\n",
    "corr = np.corrcoef(mat_a, mat_b)[0, 1]\n",
    "print(corr)"
   ]
  }
 ],
 "metadata": {
  "kernelspec": {
   "display_name": "neuro_pred",
   "language": "python",
   "name": "python3"
  },
  "language_info": {
   "codemirror_mode": {
    "name": "ipython",
    "version": 3
   },
   "file_extension": ".py",
   "mimetype": "text/x-python",
   "name": "python",
   "nbconvert_exporter": "python",
   "pygments_lexer": "ipython3",
   "version": "3.10.17"
  }
 },
 "nbformat": 4,
 "nbformat_minor": 5
}
