{
 "cells": [
  {
   "cell_type": "code",
   "execution_count": 1,
   "id": "6cf3c31f",
   "metadata": {},
   "outputs": [
    {
     "name": "stdout",
     "output_type": "stream",
     "text": [
      "d:\\Analysis\\NeuroPred\n"
     ]
    }
   ],
   "source": [
    "import os\n",
    "import sys\n",
    "module_path = os.path.abspath(os.path.join(os.getcwd(), os.pardir))\n",
    "print(module_path)\n",
    "sys.path.append(module_path)"
   ]
  },
  {
   "cell_type": "code",
   "execution_count": 2,
   "id": "b576fc94",
   "metadata": {},
   "outputs": [
    {
     "name": "stderr",
     "output_type": "stream",
     "text": [
      "d:\\Anaconda\\envs\\neuro_pred\\lib\\site-packages\\tqdm\\auto.py:21: TqdmWarning: IProgress not found. Please update jupyter and ipywidgets. See https://ipywidgets.readthedocs.io/en/stable/user_install.html\n",
      "  from .autonotebook import tqdm as notebook_tqdm\n"
     ]
    }
   ],
   "source": [
    "import clip\n",
    "import timm\n",
    "import open_clip\n",
    "import torchvision.models as models\n",
    "\n",
    "from NeuroPredictor.FeatExtractor import (\n",
    "    TimmFeatureExtractor,\n",
    "    TorchvisionFeatureExtractor,\n",
    "    CLIPFeatureExtractor,\n",
    "    OpenCLIPFeatureExtractor\n",
    ")"
   ]
  },
  {
   "cell_type": "markdown",
   "id": "9256d123",
   "metadata": {},
   "source": [
    "#### Get available models"
   ]
  },
  {
   "cell_type": "code",
   "execution_count": 3,
   "id": "cbb3bd85",
   "metadata": {},
   "outputs": [
    {
     "name": "stdout",
     "output_type": "stream",
     "text": [
      "['alexnet', 'convnext_base', 'convnext_large', 'convnext_small', 'convnext_tiny', 'deeplabv3_mobilenet_v3_large', 'deeplabv3_resnet101', 'deeplabv3_resnet50', 'densenet121', 'densenet161', 'densenet169', 'densenet201', 'efficientnet_b0', 'efficientnet_b1', 'efficientnet_b2', 'efficientnet_b3', 'efficientnet_b4', 'efficientnet_b5', 'efficientnet_b6', 'efficientnet_b7', 'efficientnet_v2_l', 'efficientnet_v2_m', 'efficientnet_v2_s', 'fasterrcnn_mobilenet_v3_large_320_fpn', 'fasterrcnn_mobilenet_v3_large_fpn', 'fasterrcnn_resnet50_fpn', 'fasterrcnn_resnet50_fpn_v2', 'fcn_resnet101', 'fcn_resnet50', 'fcos_resnet50_fpn', 'googlenet', 'inception_v3', 'keypointrcnn_resnet50_fpn', 'lraspp_mobilenet_v3_large', 'maskrcnn_resnet50_fpn', 'maskrcnn_resnet50_fpn_v2', 'maxvit_t', 'mc3_18', 'mnasnet0_5', 'mnasnet0_75', 'mnasnet1_0', 'mnasnet1_3', 'mobilenet_v2', 'mobilenet_v3_large', 'mobilenet_v3_small', 'mvit_v1_b', 'mvit_v2_s', 'quantized_googlenet', 'quantized_inception_v3', 'quantized_mobilenet_v2', 'quantized_mobilenet_v3_large', 'quantized_resnet18', 'quantized_resnet50', 'quantized_resnext101_32x8d', 'quantized_resnext101_64x4d', 'quantized_shufflenet_v2_x0_5', 'quantized_shufflenet_v2_x1_0', 'quantized_shufflenet_v2_x1_5', 'quantized_shufflenet_v2_x2_0', 'r2plus1d_18', 'r3d_18', 'raft_large', 'raft_small', 'regnet_x_16gf', 'regnet_x_1_6gf', 'regnet_x_32gf', 'regnet_x_3_2gf', 'regnet_x_400mf', 'regnet_x_800mf', 'regnet_x_8gf', 'regnet_y_128gf', 'regnet_y_16gf', 'regnet_y_1_6gf', 'regnet_y_32gf', 'regnet_y_3_2gf', 'regnet_y_400mf', 'regnet_y_800mf', 'regnet_y_8gf', 'resnet101', 'resnet152', 'resnet18', 'resnet34', 'resnet50', 'resnext101_32x8d', 'resnext101_64x4d', 'resnext50_32x4d', 'retinanet_resnet50_fpn', 'retinanet_resnet50_fpn_v2', 's3d', 'shufflenet_v2_x0_5', 'shufflenet_v2_x1_0', 'shufflenet_v2_x1_5', 'shufflenet_v2_x2_0', 'squeezenet1_0', 'squeezenet1_1', 'ssd300_vgg16', 'ssdlite320_mobilenet_v3_large', 'swin3d_b', 'swin3d_s', 'swin3d_t', 'swin_b', 'swin_s', 'swin_t', 'swin_v2_b', 'swin_v2_s', 'swin_v2_t', 'vgg11', 'vgg11_bn', 'vgg13', 'vgg13_bn', 'vgg16', 'vgg16_bn', 'vgg19', 'vgg19_bn', 'vit_b_16', 'vit_b_32', 'vit_h_14', 'vit_l_16', 'vit_l_32', 'wide_resnet101_2', 'wide_resnet50_2']\n",
      "['maxvit_t', 'mvit_v1_b', 'mvit_v2_s', 'vit_b_16', 'vit_b_32', 'vit_h_14', 'vit_l_16', 'vit_l_32']\n"
     ]
    }
   ],
   "source": [
    "backbone_type = 'torchvision' # 'timm', 'torchvision', 'clip', 'openclip'\n",
    "if backbone_type == 'timm':\n",
    "    model_list = timm.list_models()\n",
    "elif backbone_type == 'torchvision':\n",
    "    model_list = models.list_models()\n",
    "elif backbone_type == 'clip':\n",
    "    model_list = clip.available_models()\n",
    "elif backbone_type == 'openclip':\n",
    "    model_list = open_clip.list_models()\n",
    "\n",
    "print(model_list)\n",
    "print([i for i in model_list if 'vit' in i])"
   ]
  },
  {
   "cell_type": "markdown",
   "id": "a95fcfc5",
   "metadata": {},
   "source": [
    "#### Get available layers"
   ]
  },
  {
   "cell_type": "code",
   "execution_count": null,
   "id": "e46e4559",
   "metadata": {},
   "outputs": [],
   "source": [
    "backbone_type = 'timm'\n",
    "# model_name = 'vit_base_patch16_clip_224.laion2b'\n",
    "model_name = 'vit_base_patch16_384'\n",
    "\n",
    "if backbone_type == 'timm':\n",
    "    model = TimmFeatureExtractor(model_name=model_name)\n",
    "elif backbone_type == 'torchvision':\n",
    "    model = TorchvisionFeatureExtractor(model_name=model_name)\n",
    "elif backbone_type == 'clip':\n",
    "    model = CLIPFeatureExtractor(model_name=model_name)\n",
    "elif backbone_type == 'openclip':\n",
    "    model = OpenCLIPFeatureExtractor(model_name=model_name)\n",
    "\n",
    "print(model.list_hookable_layers())"
   ]
  },
  {
   "cell_type": "code",
   "execution_count": 4,
   "id": "97af27a7",
   "metadata": {},
   "outputs": [
    {
     "name": "stdout",
     "output_type": "stream",
     "text": [
      "['conv1', 'bn1', 'relu', 'maxpool', 'layer1.0.conv1', 'layer1.0.bn1', 'layer1.0.conv2', 'layer1.0.bn2', 'layer1.0.conv3', 'layer1.0.bn3', 'layer1.0.relu', 'layer1.0.downsample.0', 'layer1.0.downsample.1', 'layer1.1.conv1', 'layer1.1.bn1', 'layer1.1.conv2', 'layer1.1.bn2', 'layer1.1.conv3', 'layer1.1.bn3', 'layer1.1.relu', 'layer1.2.conv1', 'layer1.2.bn1', 'layer1.2.conv2', 'layer1.2.bn2', 'layer1.2.conv3', 'layer1.2.bn3', 'layer1.2.relu', 'layer2.0.conv1', 'layer2.0.bn1', 'layer2.0.conv2', 'layer2.0.bn2', 'layer2.0.conv3', 'layer2.0.bn3', 'layer2.0.relu', 'layer2.0.downsample.0', 'layer2.0.downsample.1', 'layer2.1.conv1', 'layer2.1.bn1', 'layer2.1.conv2', 'layer2.1.bn2', 'layer2.1.conv3', 'layer2.1.bn3', 'layer2.1.relu', 'layer2.2.conv1', 'layer2.2.bn1', 'layer2.2.conv2', 'layer2.2.bn2', 'layer2.2.conv3', 'layer2.2.bn3', 'layer2.2.relu', 'layer2.3.conv1', 'layer2.3.bn1', 'layer2.3.conv2', 'layer2.3.bn2', 'layer2.3.conv3', 'layer2.3.bn3', 'layer2.3.relu', 'layer3.0.conv1', 'layer3.0.bn1', 'layer3.0.conv2', 'layer3.0.bn2', 'layer3.0.conv3', 'layer3.0.bn3', 'layer3.0.relu', 'layer3.0.downsample.0', 'layer3.0.downsample.1', 'layer3.1.conv1', 'layer3.1.bn1', 'layer3.1.conv2', 'layer3.1.bn2', 'layer3.1.conv3', 'layer3.1.bn3', 'layer3.1.relu', 'layer3.2.conv1', 'layer3.2.bn1', 'layer3.2.conv2', 'layer3.2.bn2', 'layer3.2.conv3', 'layer3.2.bn3', 'layer3.2.relu', 'layer3.3.conv1', 'layer3.3.bn1', 'layer3.3.conv2', 'layer3.3.bn2', 'layer3.3.conv3', 'layer3.3.bn3', 'layer3.3.relu', 'layer3.4.conv1', 'layer3.4.bn1', 'layer3.4.conv2', 'layer3.4.bn2', 'layer3.4.conv3', 'layer3.4.bn3', 'layer3.4.relu', 'layer3.5.conv1', 'layer3.5.bn1', 'layer3.5.conv2', 'layer3.5.bn2', 'layer3.5.conv3', 'layer3.5.bn3', 'layer3.5.relu', 'layer4.0.conv1', 'layer4.0.bn1', 'layer4.0.conv2', 'layer4.0.bn2', 'layer4.0.conv3', 'layer4.0.bn3', 'layer4.0.relu', 'layer4.0.downsample.0', 'layer4.0.downsample.1', 'layer4.1.conv1', 'layer4.1.bn1', 'layer4.1.conv2', 'layer4.1.bn2', 'layer4.1.conv3', 'layer4.1.bn3', 'layer4.1.relu', 'layer4.2.conv1', 'layer4.2.bn1', 'layer4.2.conv2', 'layer4.2.bn2', 'layer4.2.conv3', 'layer4.2.bn3', 'layer4.2.relu', 'avgpool', 'fc']\n"
     ]
    }
   ],
   "source": [
    "backbone_type = 'torchvision'\n",
    "model_name = 'resnet50'\n",
    "# ckpt_path = r\"D:\\Dataset\\robust_weights\\resnet50\\resnet50_linf_eps2.0.ckpt\"\n",
    "ckpt_path = r\"D:\\Dataset\\ss_weights\\resnet50\\moco_v2_800ep_pretrain.pth.tar\"\n",
    "\n",
    "if backbone_type == 'timm':\n",
    "    model = TimmFeatureExtractor(model_name=model_name)\n",
    "elif backbone_type == 'torchvision':\n",
    "    model = TorchvisionFeatureExtractor(model_name=model_name, ckpt_path=ckpt_path)\n",
    "elif backbone_type == 'clip':\n",
    "    model = CLIPFeatureExtractor(model_name=model_name)\n",
    "elif backbone_type == 'openclip':\n",
    "    model = OpenCLIPFeatureExtractor(model_name=model_name)\n",
    "\n",
    "print(model.list_hookable_layers())"
   ]
  },
  {
   "cell_type": "markdown",
   "id": "9fade35e",
   "metadata": {},
   "source": [
    "#### Get the shape of layers"
   ]
  },
  {
   "cell_type": "code",
   "execution_count": 5,
   "id": "7ce66a5d",
   "metadata": {},
   "outputs": [
    {
     "name": "stdout",
     "output_type": "stream",
     "text": [
      "Counter({'torch.float32': 161}) cuda:0\n",
      "<class 'torch.Tensor'>\n",
      "layer1: (1, 256, 56, 56)\n",
      "layer2: (1, 512, 28, 28)\n",
      "layer3: (1, 1024, 14, 14)\n",
      "layer4: (1, 2048, 7, 7)\n"
     ]
    }
   ],
   "source": [
    "extractor = TorchvisionFeatureExtractor(model_name='resnet50', ckpt_path=ckpt_path)\n",
    "# extractor = TorchvisionFeatureExtractor(model_name='resnet50')\n",
    "\n",
    "from collections import Counter\n",
    "\n",
    "def param_dtype_summary(model):\n",
    "    cnt = Counter()\n",
    "    for name, p in model.named_parameters():\n",
    "        cnt[str(p.dtype)] += 1\n",
    "    return cnt\n",
    "print(param_dtype_summary(extractor.model), next(extractor.model.parameters()).device)\n",
    "layers = extractor.list_hookable_layers()\n",
    "selected_layers = ['layer1', 'layer2', 'layer3', 'layer4']\n",
    "shapes = extractor.get_feature_shapes(selected_layers)\n",
    "\n",
    "for name, shape in shapes.items():\n",
    "    print(f\"{name}: {shape}\")"
   ]
  },
  {
   "cell_type": "code",
   "execution_count": null,
   "id": "24d0571f",
   "metadata": {},
   "outputs": [],
   "source": [
    "extractor = TimmFeatureExtractor(model_name='vit_base_patch16_clip_224.laion2b')\n",
    "layers = extractor.list_hookable_layers()\n",
    "selected_layers = ['patch_embed.proj', 'blocks.0.norm1', 'blocks.0.attn.qkv', 'blocks.11', 'norm']\n",
    "shapes = extractor.get_feature_shapes(selected_layers)\n",
    "\n",
    "for name, shape in shapes.items():\n",
    "    print(f\"{name}: {shape}\")"
   ]
  },
  {
   "cell_type": "markdown",
   "id": "f324b6a8",
   "metadata": {},
   "source": [
    "#### Test weights loading"
   ]
  },
  {
   "cell_type": "code",
   "execution_count": null,
   "id": "6fcde600",
   "metadata": {},
   "outputs": [],
   "source": [
    "import torch\n",
    "from torchvision.models import resnet50, ResNet50_Weights\n",
    "\n",
    "# 1) 新建 torchvision 的 resnet50（不自动下载 torchvision 的预训练权重）\n",
    "model = resnet50(weights=None)\n",
    "model.eval()\n",
    "\n",
    "# 2) 加载 checkpoint（路径换成你下载的文件）\n",
    "ckpt_path = r\"D:\\Analysis\\NeuroPred\\Data\\weights\\resnet50_linf_eps2.0.ckpt\"  # 文件来自 RobustBench / MadryLab 等\n",
    "ckpt = torch.load(ckpt_path, map_location=\"cpu\")\n",
    "\n",
    "# ckpt 的结构会不同：常见有直接 state_dict，或包含 'model_state_dict'/'state_dict'/'model'\n",
    "if isinstance(ckpt, dict):\n",
    "    # 尝试常见键名\n",
    "    if \"state_dict\" in ckpt:\n",
    "        sd = ckpt[\"state_dict\"]\n",
    "    elif \"model_state_dict\" in ckpt:\n",
    "        sd = ckpt[\"model_state_dict\"]\n",
    "    elif \"model\" in ckpt and isinstance(ckpt[\"model\"], dict):\n",
    "        sd = ckpt[\"model\"]\n",
    "    else:\n",
    "        # 否则假设整个对象就是 state_dict\n",
    "        sd = ckpt\n",
    "else:\n",
    "    sd = ckpt\n",
    "\n",
    "# 3) 清洗 key（去掉 'module.' 或 'model.' 前缀）\n",
    "new_sd = {}\n",
    "for k, v in sd.items():\n",
    "    new_k = k\n",
    "    if k.startswith(\"module.\"):\n",
    "        new_k = k[len(\"module.\"):]\n",
    "    if new_k.startswith(\"model.\"):\n",
    "        new_k = new_k[len(\"model.\"):]\n",
    "    new_sd[new_k] = v\n",
    "\n",
    "# 4) 尝试加载（strict=False 以便于调试不匹配项）\n",
    "missing, unexpected = model.load_state_dict(new_sd, strict=False)\n",
    "print(\"missing keys:\", missing)\n",
    "print(\"unexpected keys:\", unexpected)"
   ]
  },
  {
   "cell_type": "code",
   "execution_count": null,
   "id": "182bb327",
   "metadata": {},
   "outputs": [],
   "source": [
    "print(new_sd.keys())\n",
    "print(model)"
   ]
  }
 ],
 "metadata": {
  "kernelspec": {
   "display_name": "neuro_pred",
   "language": "python",
   "name": "python3"
  },
  "language_info": {
   "codemirror_mode": {
    "name": "ipython",
    "version": 3
   },
   "file_extension": ".py",
   "mimetype": "text/x-python",
   "name": "python",
   "nbconvert_exporter": "python",
   "pygments_lexer": "ipython3",
   "version": "3.10.17"
  }
 },
 "nbformat": 4,
 "nbformat_minor": 5
}
